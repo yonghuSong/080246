{
  "cells": [
    {
      "cell_type": "code",
      "execution_count": 2,
      "metadata": {
        "id": "Tc5wjHI28HXG",
        "outputId": "6d32aaa5-fb0b-48a6-aadf-7e21583a40bb",
        "colab": {
          "base_uri": "https://localhost:8080/"
        }
      },
      "outputs": [
        {
          "output_type": "stream",
          "name": "stdout",
          "text": [
            "[1 2 3]\n"
          ]
        }
      ],
      "source": [
        "# Part 3 선형대수학\n",
        "# 10장 벡터와 공간\n",
        "# 10.1 벡터\n",
        "# 10.1.2 벡터란\n",
        "# 벡터란\n",
        "\n",
        "# Numpy 라이브러리 호출\n",
        "import numpy as np\n",
        "x = np.array([1, 2, 3]) # 크기가 (3, )인 1차원 배열의 표현\n",
        "print(x)"
      ]
    },
    {
      "cell_type": "code",
      "execution_count": 3,
      "metadata": {
        "id": "ukN9PnP48HXI",
        "outputId": "5e0557eb-2269-49b5-e95b-da9dfa9f5870",
        "colab": {
          "base_uri": "https://localhost:8080/"
        }
      },
      "outputs": [
        {
          "output_type": "stream",
          "name": "stdout",
          "text": [
            "[[1 2 3]]\n"
          ]
        }
      ],
      "source": [
        "u = np.array([[1, 2, 3]])  # 크기가 (1, 3)인 2차원 배열의 표현(행 벡터)  #차원이 하나 더 높다.\n",
        "print(u)"
      ]
    },
    {
      "cell_type": "code",
      "execution_count": 10,
      "metadata": {
        "id": "1JLVQtkm8HXJ",
        "outputId": "61afb2d0-db66-4822-d3a1-bf180385c4df",
        "colab": {
          "base_uri": "https://localhost:8080/"
        }
      },
      "outputs": [
        {
          "output_type": "stream",
          "name": "stdout",
          "text": [
            "[[1 2]\n",
            " [3 3]\n",
            " [3 4]]\n"
          ]
        }
      ],
      "source": [
        "v = np.array([[1,2],[3,3],[3,4]]) # 크기가 (3, 1)인 2차원 배열의 표현(열 벡터)\n",
        "print(v)"
      ]
    },
    {
      "cell_type": "code",
      "execution_count": null,
      "metadata": {
        "id": "enz1PpBe8HXJ",
        "outputId": "cab4a6c7-f6c6-407f-d3e8-96733cfa04d4"
      },
      "outputs": [
        {
          "data": {
            "text/plain": [
              "{1: 0.3333333333333333, 2: 0.6666666666666666, 3: 0.0}"
            ]
          },
          "execution_count": 4,
          "metadata": {},
          "output_type": "execute_result"
        }
      ],
      "source": [
        "# 벡터의 표현(확률분포를 벡터로 표현)\n",
        "{1: 1/3, 2: 2/3, 3: 0/3}"
      ]
    },
    {
      "cell_type": "code",
      "execution_count": null,
      "metadata": {
        "id": "NYgutu3r8HXJ",
        "outputId": "8e7c5e5b-3e1f-4729-ea31-b70f79b5eaeb"
      },
      "outputs": [
        {
          "name": "stdout",
          "output_type": "stream",
          "text": [
            "[0.53452248 0.80178373 0.26726124]\n"
          ]
        }
      ],
      "source": [
        "# 10.1.3 특수한 벡터\n",
        "# 벡터란\n",
        "# 단위벡터\n",
        "\n",
        "import numpy as np\n",
        "from scipy import linalg\n",
        "\n",
        "# 단위 벡터를 위해 두가지 방법을 사용할 수 있다.\n",
        "# NumPy의 서브 패키지인 linalg에서 제공하는 함수 norm()을 사용하여\n",
        "# 벡터의 크기를 계산한 후 기존 벡터로 나눠준다.\n",
        "\n",
        "s=np.array([2,3,1])\n",
        "v_hat01 = s / linalg.norm(s)\n",
        "print(v_hat01)"
      ]
    },
    {
      "cell_type": "code",
      "execution_count": null,
      "metadata": {
        "id": "Lwtfmws98HXK",
        "outputId": "9b2daeba-0d11-4df5-ee23-de90a717fe1b"
      },
      "outputs": [
        {
          "name": "stdout",
          "output_type": "stream",
          "text": [
            "[ 0.31622777 -0.9486833 ]\n"
          ]
        }
      ],
      "source": [
        "# 파이썬 문제풀이(1)\n",
        "\n",
        "import numpy as np\n",
        "x=np.array([1, -3])\n",
        "v_hat = x / linalg.norm(x)\n",
        "print(v_hat)"
      ]
    },
    {
      "cell_type": "code",
      "execution_count": null,
      "metadata": {
        "id": "zGhGPd7I8HXK",
        "outputId": "295a8d23-3191-4969-f47c-398da6bcbf6e"
      },
      "outputs": [
        {
          "data": {
            "text/plain": [
              "array([-0.6, -0.8])"
            ]
          },
          "execution_count": 7,
          "metadata": {},
          "output_type": "execute_result"
        }
      ],
      "source": [
        "# 파이썬 문제풀이(2)\n",
        "\n",
        "import numpy as np\n",
        "x=np.array([-6,-8])\n",
        "v_hat2 = x / (x**2).sum()**0.5\n",
        "v_hat2"
      ]
    },
    {
      "cell_type": "code",
      "execution_count": null,
      "metadata": {
        "id": "_OZvcwLZ8HXL",
        "outputId": "054fac8c-d024-4699-e6ed-1f07670cb1b4"
      },
      "outputs": [
        {
          "name": "stdout",
          "output_type": "stream",
          "text": [
            "[-0.78086881 -0.62469505]\n"
          ]
        }
      ],
      "source": [
        "# 파이썬 문제풀이(3)\n",
        "import numpy as np\n",
        "x=np.array([-5, -4])\n",
        "v_hat = x / linalg.norm(x)\n",
        "print (v_hat)"
      ]
    },
    {
      "cell_type": "code",
      "execution_count": null,
      "metadata": {
        "id": "lRlVq_tW8HXL",
        "outputId": "2bdc6d3d-c7de-451e-c49b-32cf78a7d6b4"
      },
      "outputs": [
        {
          "data": {
            "text/plain": [
              "array([0., 0., 0., 0., 0.])"
            ]
          },
          "execution_count": 9,
          "metadata": {},
          "output_type": "execute_result"
        }
      ],
      "source": [
        "# 영벡터\n",
        "\n",
        "import numpy as np\n",
        "np.zeros(5)"
      ]
    },
    {
      "cell_type": "code",
      "execution_count": null,
      "metadata": {
        "id": "H1JOYF0Y8HXL",
        "outputId": "7a8707b9-ba43-4765-fe59-479f23fd6f14"
      },
      "outputs": [
        {
          "data": {
            "text/plain": [
              "(5,)"
            ]
          },
          "execution_count": 10,
          "metadata": {},
          "output_type": "execute_result"
        }
      ],
      "source": [
        "np.zeros(5).shape"
      ]
    },
    {
      "cell_type": "code",
      "execution_count": null,
      "metadata": {
        "id": "Xjqqktif8HXM",
        "outputId": "4a7a8f74-c096-4b0c-e3b5-35acc72b9948"
      },
      "outputs": [
        {
          "data": {
            "text/plain": [
              "array([[0., 0.],\n",
              "       [0., 0.]])"
            ]
          },
          "execution_count": 11,
          "metadata": {},
          "output_type": "execute_result"
        }
      ],
      "source": [
        "s = (2,2)\n",
        "np.zeros(s)"
      ]
    },
    {
      "cell_type": "code",
      "execution_count": null,
      "metadata": {
        "id": "HdOqVaTy8HXM",
        "outputId": "a60443f5-8712-4602-8c3f-134f4b1d7989"
      },
      "outputs": [
        {
          "name": "stdout",
          "output_type": "stream",
          "text": [
            "[ 5 -2]\n"
          ]
        }
      ],
      "source": [
        "# 10.2 선형 결합과 선형 독립\n",
        "# 10.2.1 선형 결합(linear combination)과 생성(span)\n",
        "\n",
        "import numpy as np\n",
        "a = np.array([2,4])\n",
        "b = np.array([1,6])\n",
        "c=(4*a)+((-3)*b)\n",
        "print(c)"
      ]
    },
    {
      "cell_type": "code",
      "execution_count": null,
      "metadata": {
        "id": "VTdpUZxu8HXM",
        "outputId": "b1f6ebdf-f814-4eef-8e4b-adfb7613da81"
      },
      "outputs": [
        {
          "data": {
            "text/plain": [
              "2"
            ]
          },
          "execution_count": 13,
          "metadata": {},
          "output_type": "execute_result"
        }
      ],
      "source": [
        "# 10.2.3 부분공간과 부분공간의 기저\n",
        "# 랭크(rank)\n",
        "\n",
        "import numpy as np\n",
        "X1 = np.array([[2, 7], [5, 1]])\n",
        "np.linalg.matrix_rank(X1)"
      ]
    },
    {
      "cell_type": "code",
      "execution_count": null,
      "metadata": {
        "id": "IxDKXesF8HXM",
        "outputId": "6de2f232-1244-4a2a-b887-2a4164cb7fb2"
      },
      "outputs": [
        {
          "data": {
            "text/plain": [
              "1"
            ]
          },
          "execution_count": 14,
          "metadata": {},
          "output_type": "execute_result"
        }
      ],
      "source": [
        "X1 = np.array([[2, 4], [3, 6]])\n",
        "np.linalg.matrix_rank(X1)"
      ]
    },
    {
      "cell_type": "code",
      "execution_count": null,
      "metadata": {
        "id": "naSnRjQr8HXM",
        "outputId": "e888c960-7a5a-43e0-b72c-fe61722f3427"
      },
      "outputs": [
        {
          "data": {
            "text/plain": [
              "2"
            ]
          },
          "execution_count": 15,
          "metadata": {},
          "output_type": "execute_result"
        }
      ],
      "source": [
        "# 파이썬 문제풀이(1)\n",
        "\n",
        "import numpy as np\n",
        "X1 = np.array([[1, 2], [3, 5]])\n",
        "np.linalg.matrix_rank(X1)"
      ]
    },
    {
      "cell_type": "code",
      "execution_count": null,
      "metadata": {
        "id": "Xhxq-3Yz8HXN",
        "outputId": "b202e205-ff71-4857-b2a2-49920d43c4af"
      },
      "outputs": [
        {
          "data": {
            "text/plain": [
              "1"
            ]
          },
          "execution_count": 16,
          "metadata": {},
          "output_type": "execute_result"
        }
      ],
      "source": [
        "# 파이썬 문제풀이(2)\n",
        "\n",
        "import numpy as np\n",
        "X1 = np.array([[1, 2], [3, 6]])\n",
        "np.linalg.matrix_rank(X1)"
      ]
    },
    {
      "cell_type": "code",
      "execution_count": null,
      "metadata": {
        "id": "mg1-B49x8HXN",
        "outputId": "8e624de7-e129-4f15-9d00-adc25173e9fa"
      },
      "outputs": [
        {
          "name": "stdout",
          "output_type": "stream",
          "text": [
            "[5, 4]\n"
          ]
        }
      ],
      "source": [
        "# 10.3 벡터의 내적과 외적\n",
        "# 10.3.1 벡터의 덧셈과 뺄셈\n",
        "# 벡터의 덧셈\n",
        "\n",
        "x=[2,3]\n",
        "y=[3,1]\n",
        "z=[i+j for i, j in zip(x,y)]\n",
        "print(z)"
      ]
    },
    {
      "cell_type": "code",
      "execution_count": null,
      "metadata": {
        "id": "Id8dueiA8HXN",
        "outputId": "3f721910-bdd2-40fa-8522-887919485c05"
      },
      "outputs": [
        {
          "data": {
            "text/plain": [
              "[(1, 4), (2, 5), (3, 6)]"
            ]
          },
          "execution_count": 18,
          "metadata": {},
          "output_type": "execute_result"
        }
      ],
      "source": [
        "# 노트\n",
        "\n",
        "list(zip([1, 2, 3], [4, 5, 6]))"
      ]
    },
    {
      "cell_type": "code",
      "execution_count": null,
      "metadata": {
        "id": "jaJNdpOZ8HXN",
        "outputId": "0fc6e972-bd0c-4845-cdef-af13762d769c"
      },
      "outputs": [
        {
          "data": {
            "text/plain": [
              "[(1, 4, 7), (2, 5, 8), (3, 6, 9)]"
            ]
          },
          "execution_count": 19,
          "metadata": {},
          "output_type": "execute_result"
        }
      ],
      "source": [
        "list(zip([1, 2, 3], [4, 5, 6], [7, 8, 9]))"
      ]
    },
    {
      "cell_type": "code",
      "execution_count": null,
      "metadata": {
        "id": "BiuWXqo18HXN",
        "outputId": "935c5237-81f4-4376-b0d3-d798ea5f0543"
      },
      "outputs": [
        {
          "name": "stdout",
          "output_type": "stream",
          "text": [
            "[5 4]\n"
          ]
        }
      ],
      "source": [
        "# NumPy 라이브러리 이용한 간단한 코드\n",
        "\n",
        "import numpy as np\n",
        "u = np.array(x)\n",
        "v = np.array(y)\n",
        "w=u+v\n",
        "print(w)"
      ]
    },
    {
      "cell_type": "code",
      "execution_count": null,
      "metadata": {
        "id": "Gkb01WoV8HXO",
        "outputId": "0e5c0c2f-ea65-44ba-ae12-b20301a99eeb"
      },
      "outputs": [
        {
          "name": "stdout",
          "output_type": "stream",
          "text": [
            "[-6 13]\n"
          ]
        }
      ],
      "source": [
        "# 파이썬 문제풀이(1)\n",
        "\n",
        "import numpy as np\n",
        "x=[-4,5]\n",
        "y=[-2,8]\n",
        "u = np.array(x)\n",
        "v = np.array(y)\n",
        "w=u+v\n",
        "print(w)"
      ]
    },
    {
      "cell_type": "code",
      "execution_count": null,
      "metadata": {
        "id": "NQ9AVfmk8HXO",
        "outputId": "fa121795-943c-4785-c7db-ded0b38168ea"
      },
      "outputs": [
        {
          "name": "stdout",
          "output_type": "stream",
          "text": [
            "[15 -1]\n"
          ]
        }
      ],
      "source": [
        "# 파이썬 문제풀이(2)\n",
        "\n",
        "import numpy as np\n",
        "x=[11,2]\n",
        "y=[4,-3]\n",
        "u = np.array(x)\n",
        "v = np.array(y)\n",
        "w=u+v\n",
        "print(w)"
      ]
    },
    {
      "cell_type": "code",
      "execution_count": null,
      "metadata": {
        "id": "bmz-1it28HXO",
        "outputId": "ad58ad9e-6721-42f0-e718-3bce6bee0123"
      },
      "outputs": [
        {
          "name": "stdout",
          "output_type": "stream",
          "text": [
            "[-38  19]\n"
          ]
        }
      ],
      "source": [
        "# 파이썬 문제풀이(3)\n",
        "\n",
        "import numpy as np\n",
        "x=[-13,53]\n",
        "y=[-25,-34]\n",
        "u = np.array(x)\n",
        "v = np.array(y)\n",
        "w=u+v\n",
        "print(w)"
      ]
    },
    {
      "cell_type": "code",
      "execution_count": null,
      "metadata": {
        "id": "PT0K-kET8HXO",
        "outputId": "c91e1bf9-19e5-4a4f-a26a-bd4454c3ee0b"
      },
      "outputs": [
        {
          "name": "stdout",
          "output_type": "stream",
          "text": [
            "[-1, 2]\n"
          ]
        }
      ],
      "source": [
        "# 벡터의 뺄셈\n",
        "\n",
        "x=[2,3]\n",
        "y=[3,1]\n",
        "z=[i-j for i, j in zip(x,y)]\n",
        "print(z)"
      ]
    },
    {
      "cell_type": "code",
      "execution_count": null,
      "metadata": {
        "id": "YUOnqrAt8HXP",
        "outputId": "26bb1d60-099b-4880-f513-5a72cb67c5c2"
      },
      "outputs": [
        {
          "name": "stdout",
          "output_type": "stream",
          "text": [
            "[-1  2]\n"
          ]
        }
      ],
      "source": [
        "# NumPy 라이브러리 이용한 간단한 코드\n",
        "\n",
        "import numpy as np\n",
        "u = np.array(x)\n",
        "v = np.array(y)\n",
        "w=u-v\n",
        "print(w)"
      ]
    },
    {
      "cell_type": "code",
      "execution_count": null,
      "metadata": {
        "id": "U5_ayQDa8HXP",
        "outputId": "fba69555-1c68-431d-fcde-fbba43e77446"
      },
      "outputs": [
        {
          "name": "stdout",
          "output_type": "stream",
          "text": [
            "[ 2 11]\n"
          ]
        }
      ],
      "source": [
        "# 파이썬 문제풀이(1)\n",
        "\n",
        "import numpy as np\n",
        "x=[-7,15]\n",
        "y=[-9,4]\n",
        "u = np.array(x)\n",
        "v = np.array(y)\n",
        "w=u-v\n",
        "print(w)"
      ]
    },
    {
      "cell_type": "code",
      "execution_count": null,
      "metadata": {
        "id": "XVu-Ow4Z8HXP",
        "outputId": "947bc9dd-90b2-4d33-c039-78f06954af07"
      },
      "outputs": [
        {
          "name": "stdout",
          "output_type": "stream",
          "text": [
            "[-19  20]\n"
          ]
        }
      ],
      "source": [
        "# 파이썬 문제풀이(2)\n",
        "\n",
        "import numpy as np\n",
        "x=[-11,6]\n",
        "y=[8,-14]\n",
        "u = np.array(x)\n",
        "v = np.array(y)\n",
        "w=u-v\n",
        "print(w)"
      ]
    },
    {
      "cell_type": "code",
      "execution_count": null,
      "metadata": {
        "id": "j-NCKr-n8HXP",
        "outputId": "e9d1b8db-f986-426f-83ba-1579c3cf33f2"
      },
      "outputs": [
        {
          "name": "stdout",
          "output_type": "stream",
          "text": [
            "[ 8 35]\n"
          ]
        }
      ],
      "source": [
        "# 파이썬 문제풀이(3)\n",
        "\n",
        "import numpy as np\n",
        "x=[-11,14]\n",
        "y=[-19,-21]\n",
        "u = np.array(x)\n",
        "v = np.array(y)\n",
        "w=u-v\n",
        "print(w)"
      ]
    },
    {
      "cell_type": "code",
      "execution_count": null,
      "metadata": {
        "id": "KUlkfwXu8HXP",
        "outputId": "1d01c8bd-ef81-4581-ec1a-bd62efb1ba7e"
      },
      "outputs": [
        {
          "name": "stdout",
          "output_type": "stream",
          "text": [
            "[24, 32]\n"
          ]
        }
      ],
      "source": [
        "# 10.3.2 벡터의 곱셈\n",
        "# 벡터의 내적\n",
        "\n",
        "x=[3,4]\n",
        "c=8\n",
        "z=[c*I for I in x]\n",
        "print(z)"
      ]
    },
    {
      "cell_type": "code",
      "execution_count": null,
      "metadata": {
        "id": "Zqb6IuJ38HXP",
        "outputId": "aabe8afc-b5d6-4abc-f0e1-97fe0b6f16a4"
      },
      "outputs": [
        {
          "name": "stdout",
          "output_type": "stream",
          "text": [
            "[24 32]\n"
          ]
        }
      ],
      "source": [
        "# NumPy 라이브러리 이용한 간단한 코드\n",
        "\n",
        "import numpy as np\n",
        "u = np.array([3,4])\n",
        "c = 8\n",
        "w=u*c\n",
        "print(w)"
      ]
    },
    {
      "cell_type": "code",
      "execution_count": null,
      "metadata": {
        "id": "mHhezcpl8HXQ",
        "outputId": "b87b388a-4f88-4fdc-d96b-7ddfaafda74e"
      },
      "outputs": [
        {
          "name": "stdout",
          "output_type": "stream",
          "text": [
            "72\n"
          ]
        }
      ],
      "source": [
        "# 벡터의 내적(inner product)\n",
        "\n",
        "import numpy as np\n",
        "u = np.array([6,6])\n",
        "v = np.array([12,0])\n",
        "uv = np.dot(u, v)\n",
        "print(uv)"
      ]
    },
    {
      "cell_type": "code",
      "execution_count": null,
      "metadata": {
        "id": "J5KZn5iO8HXQ",
        "outputId": "95992b12-4f36-4076-d695-b844fff1da03"
      },
      "outputs": [
        {
          "ename": "ValueError",
          "evalue": "shapes (1,2,3) and (1,2,3) not aligned: 3 (dim 2) != 2 (dim 1)",
          "output_type": "error",
          "traceback": [
            "\u001b[1;31m---------------------------------------------------------------------------\u001b[0m",
            "\u001b[1;31mValueError\u001b[0m                                Traceback (most recent call last)",
            "\u001b[1;32m<ipython-input-32-a3fbbf2ce60f>\u001b[0m in \u001b[0;36m<module>\u001b[1;34m\u001b[0m\n\u001b[0;32m      9\u001b[0m \u001b[0mB5\u001b[0m \u001b[1;33m=\u001b[0m \u001b[0mnp\u001b[0m\u001b[1;33m.\u001b[0m\u001b[0marange\u001b[0m\u001b[1;33m(\u001b[0m\u001b[1;36m1\u001b[0m\u001b[1;33m*\u001b[0m\u001b[1;36m2\u001b[0m\u001b[1;33m*\u001b[0m\u001b[1;36m3\u001b[0m\u001b[1;33m)\u001b[0m\u001b[1;33m.\u001b[0m\u001b[0mreshape\u001b[0m\u001b[1;33m(\u001b[0m\u001b[1;33m(\u001b[0m\u001b[1;36m3\u001b[0m\u001b[1;33m,\u001b[0m\u001b[1;36m1\u001b[0m\u001b[1;33m,\u001b[0m\u001b[1;36m2\u001b[0m\u001b[1;33m)\u001b[0m\u001b[1;33m)\u001b[0m\u001b[1;33m\u001b[0m\u001b[1;33m\u001b[0m\u001b[0m\n\u001b[0;32m     10\u001b[0m \u001b[0mB6\u001b[0m \u001b[1;33m=\u001b[0m \u001b[0mnp\u001b[0m\u001b[1;33m.\u001b[0m\u001b[0marange\u001b[0m\u001b[1;33m(\u001b[0m\u001b[1;36m1\u001b[0m\u001b[1;33m*\u001b[0m\u001b[1;36m2\u001b[0m\u001b[1;33m*\u001b[0m\u001b[1;36m3\u001b[0m\u001b[1;33m)\u001b[0m\u001b[1;33m.\u001b[0m\u001b[0mreshape\u001b[0m\u001b[1;33m(\u001b[0m\u001b[1;33m(\u001b[0m\u001b[1;36m3\u001b[0m\u001b[1;33m,\u001b[0m\u001b[1;36m2\u001b[0m\u001b[1;33m,\u001b[0m\u001b[1;36m1\u001b[0m\u001b[1;33m)\u001b[0m\u001b[1;33m)\u001b[0m\u001b[1;33m\u001b[0m\u001b[1;33m\u001b[0m\u001b[0m\n\u001b[1;32m---> 11\u001b[1;33m \u001b[0mnp\u001b[0m\u001b[1;33m.\u001b[0m\u001b[0mdot\u001b[0m\u001b[1;33m(\u001b[0m\u001b[0mA\u001b[0m\u001b[1;33m,\u001b[0m\u001b[0mB1\u001b[0m\u001b[1;33m)\u001b[0m \u001b[1;31m# 결과는 오류가 맞습니다\u001b[0m\u001b[1;33m\u001b[0m\u001b[1;33m\u001b[0m\u001b[0m\n\u001b[0m",
            "\u001b[1;32m<__array_function__ internals>\u001b[0m in \u001b[0;36mdot\u001b[1;34m(*args, **kwargs)\u001b[0m\n",
            "\u001b[1;31mValueError\u001b[0m: shapes (1,2,3) and (1,2,3) not aligned: 3 (dim 2) != 2 (dim 1)"
          ]
        }
      ],
      "source": [
        "# numpy.dot()를 이용하여 벡터의 내적\n",
        "\n",
        "import numpy as np\n",
        "A = np.arange(1*2*3).reshape((1,2,3))\n",
        "B1 = np.arange(1*2*3).reshape((1,2,3))\n",
        "B2 = np.arange(1*2*3).reshape((1,3,2))\n",
        "B3 = np.arange(1*2*3).reshape((2,1,3))\n",
        "B4 = np.arange(1*2*3).reshape((2,3,1))\n",
        "B5 = np.arange(1*2*3).reshape((3,1,2))\n",
        "B6 = np.arange(1*2*3).reshape((3,2,1))\n",
        "np.dot(A,B1) # 결과는 오류가 맞습니다"
      ]
    },
    {
      "cell_type": "code",
      "execution_count": null,
      "metadata": {
        "id": "zFg-YaKs8HXQ",
        "outputId": "d7231438-a7b7-486d-8097-f1e055f95b1a"
      },
      "outputs": [
        {
          "data": {
            "text/plain": [
              "array([[[[10, 13]],\n",
              "\n",
              "        [[28, 40]]]])"
            ]
          },
          "execution_count": 33,
          "metadata": {},
          "output_type": "execute_result"
        }
      ],
      "source": [
        "np.dot(A,B2)"
      ]
    },
    {
      "cell_type": "code",
      "execution_count": null,
      "metadata": {
        "id": "94xXd8GR8HXQ",
        "outputId": "abc14269-af13-4a38-c5be-d23a47ceda8d"
      },
      "outputs": [
        {
          "ename": "ValueError",
          "evalue": "shapes (1,2,3) and (2,1,3) not aligned: 3 (dim 2) != 1 (dim 1)",
          "output_type": "error",
          "traceback": [
            "\u001b[1;31m---------------------------------------------------------------------------\u001b[0m",
            "\u001b[1;31mValueError\u001b[0m                                Traceback (most recent call last)",
            "\u001b[1;32m<ipython-input-34-94f98aeef2d9>\u001b[0m in \u001b[0;36m<module>\u001b[1;34m\u001b[0m\n\u001b[1;32m----> 1\u001b[1;33m \u001b[0mnp\u001b[0m\u001b[1;33m.\u001b[0m\u001b[0mdot\u001b[0m\u001b[1;33m(\u001b[0m\u001b[0mA\u001b[0m\u001b[1;33m,\u001b[0m\u001b[0mB3\u001b[0m\u001b[1;33m)\u001b[0m \u001b[1;31m# 결과는 오류가 맞습니다\u001b[0m\u001b[1;33m\u001b[0m\u001b[1;33m\u001b[0m\u001b[0m\n\u001b[0m",
            "\u001b[1;32m<__array_function__ internals>\u001b[0m in \u001b[0;36mdot\u001b[1;34m(*args, **kwargs)\u001b[0m\n",
            "\u001b[1;31mValueError\u001b[0m: shapes (1,2,3) and (2,1,3) not aligned: 3 (dim 2) != 1 (dim 1)"
          ]
        }
      ],
      "source": [
        "np.dot(A,B3) # 결과는 오류가 맞습니다"
      ]
    },
    {
      "cell_type": "code",
      "execution_count": null,
      "metadata": {
        "id": "v9Xa0ztN8HXR",
        "outputId": "f304b538-601c-42d0-997b-7d6e9e1a7b1e"
      },
      "outputs": [
        {
          "data": {
            "text/plain": [
              "array([[[[ 5],\n",
              "         [14]],\n",
              "\n",
              "        [[14],\n",
              "         [50]]]])"
            ]
          },
          "execution_count": 35,
          "metadata": {},
          "output_type": "execute_result"
        }
      ],
      "source": [
        "np.dot(A,B4)"
      ]
    },
    {
      "cell_type": "code",
      "execution_count": null,
      "metadata": {
        "id": "6n6zmqBO8HXR",
        "outputId": "9d100660-3295-4be8-ad63-912a843bc93c"
      },
      "outputs": [
        {
          "ename": "ValueError",
          "evalue": "shapes (1,2,3) and (3,1,2) not aligned: 3 (dim 2) != 1 (dim 1)",
          "output_type": "error",
          "traceback": [
            "\u001b[1;31m---------------------------------------------------------------------------\u001b[0m",
            "\u001b[1;31mValueError\u001b[0m                                Traceback (most recent call last)",
            "\u001b[1;32m<ipython-input-36-96b485137ea0>\u001b[0m in \u001b[0;36m<module>\u001b[1;34m\u001b[0m\n\u001b[1;32m----> 1\u001b[1;33m \u001b[0mnp\u001b[0m\u001b[1;33m.\u001b[0m\u001b[0mdot\u001b[0m\u001b[1;33m(\u001b[0m\u001b[0mA\u001b[0m\u001b[1;33m,\u001b[0m\u001b[0mB5\u001b[0m\u001b[1;33m)\u001b[0m \u001b[1;31m# 결과는 오류가 맞습니다\u001b[0m\u001b[1;33m\u001b[0m\u001b[1;33m\u001b[0m\u001b[0m\n\u001b[0m",
            "\u001b[1;32m<__array_function__ internals>\u001b[0m in \u001b[0;36mdot\u001b[1;34m(*args, **kwargs)\u001b[0m\n",
            "\u001b[1;31mValueError\u001b[0m: shapes (1,2,3) and (3,1,2) not aligned: 3 (dim 2) != 1 (dim 1)"
          ]
        }
      ],
      "source": [
        "np.dot(A,B5) # 결과는 오류가 맞습니다"
      ]
    },
    {
      "cell_type": "code",
      "execution_count": null,
      "metadata": {
        "id": "xC3QfOdJ8HXR",
        "outputId": "bc35ec7d-91c9-410e-8f74-ce48d813278d"
      },
      "outputs": [
        {
          "ename": "ValueError",
          "evalue": "shapes (1,2,3) and (3,2,1) not aligned: 3 (dim 2) != 2 (dim 1)",
          "output_type": "error",
          "traceback": [
            "\u001b[1;31m---------------------------------------------------------------------------\u001b[0m",
            "\u001b[1;31mValueError\u001b[0m                                Traceback (most recent call last)",
            "\u001b[1;32m<ipython-input-37-36bec492a8d6>\u001b[0m in \u001b[0;36m<module>\u001b[1;34m\u001b[0m\n\u001b[1;32m----> 1\u001b[1;33m \u001b[0mnp\u001b[0m\u001b[1;33m.\u001b[0m\u001b[0mdot\u001b[0m\u001b[1;33m(\u001b[0m\u001b[0mA\u001b[0m\u001b[1;33m,\u001b[0m\u001b[0mB6\u001b[0m\u001b[1;33m)\u001b[0m \u001b[1;31m# 결과는 오류가 맞습니다\u001b[0m\u001b[1;33m\u001b[0m\u001b[1;33m\u001b[0m\u001b[0m\n\u001b[0m",
            "\u001b[1;32m<__array_function__ internals>\u001b[0m in \u001b[0;36mdot\u001b[1;34m(*args, **kwargs)\u001b[0m\n",
            "\u001b[1;31mValueError\u001b[0m: shapes (1,2,3) and (3,2,1) not aligned: 3 (dim 2) != 2 (dim 1)"
          ]
        }
      ],
      "source": [
        "np.dot(A,B6) # 결과는 오류가 맞습니다"
      ]
    },
    {
      "cell_type": "code",
      "execution_count": null,
      "metadata": {
        "id": "fcr2ncot8HXR",
        "outputId": "e4e74a76-4c0e-4dc4-ad9d-1104a3c04601"
      },
      "outputs": [
        {
          "name": "stdout",
          "output_type": "stream",
          "text": [
            "-75\n"
          ]
        }
      ],
      "source": [
        "# 파이썬 문제풀이(1)\n",
        "\n",
        "import numpy as np\n",
        "u = np.array([3, -6])\n",
        "v = np.array([-7, 9])\n",
        "uv = np.dot(u, v)\n",
        "print(uv)"
      ]
    },
    {
      "cell_type": "code",
      "execution_count": null,
      "metadata": {
        "id": "50gIm3J-8HXR",
        "outputId": "0eaa601c-af0b-4ff3-d98a-6f19f1ff2a42"
      },
      "outputs": [
        {
          "name": "stdout",
          "output_type": "stream",
          "text": [
            "11\n"
          ]
        }
      ],
      "source": [
        "# 파이썬 문제풀이(2)\n",
        "\n",
        "import numpy as np\n",
        "u = np.array([-3, 4, 7])\n",
        "v = np.array([-4, -9, 5])\n",
        "uv = np.dot(u, v)\n",
        "print(uv)"
      ]
    },
    {
      "cell_type": "code",
      "execution_count": null,
      "metadata": {
        "id": "ih3wfpYi8HXS",
        "outputId": "69dbefaf-8fc8-4ce1-97c5-ad38f6f7af88"
      },
      "outputs": [
        {
          "name": "stdout",
          "output_type": "stream",
          "text": [
            "194\n"
          ]
        }
      ],
      "source": [
        "# 파이썬 문제풀이(3)\n",
        "\n",
        "import numpy as np\n",
        "u = np.array([3, -11, 7])\n",
        "v = np.array([-4, -13, 9])\n",
        "uv = np.dot(u, v)\n",
        "print(uv)"
      ]
    },
    {
      "cell_type": "code",
      "execution_count": null,
      "metadata": {
        "id": "zf7m9FXd8HXS",
        "outputId": "e29a3efc-4663-4731-8462-b6d97052a4a1"
      },
      "outputs": [
        {
          "data": {
            "text/plain": [
              "[-2, 4, -2]"
            ]
          },
          "execution_count": 41,
          "metadata": {},
          "output_type": "execute_result"
        }
      ],
      "source": [
        "# 벡터의 외적\n",
        "a = (1, 3, 5)\n",
        "b = (2, 4, 6)\n",
        "\n",
        "# 벡터의 외적을 위한 수식을 함수로 구현\n",
        "def cross(a, b):\n",
        "    c = [a[1]*b[2] - a[2]*b[1],\n",
        "    a[2]*b[0] - a[0]*b[2],\n",
        "    a[0]*b[1] - a[1]*b[0]]\n",
        "    return c\n",
        "cross(a,b)"
      ]
    },
    {
      "cell_type": "code",
      "execution_count": null,
      "metadata": {
        "id": "Eu4Adwh08HXT",
        "outputId": "16b05511-aac7-42ec-a340-9ab416214765"
      },
      "outputs": [
        {
          "name": "stdout",
          "output_type": "stream",
          "text": [
            "[-2  4 -2]\n"
          ]
        }
      ],
      "source": [
        "# Numpy 이용한 벡터 외적 계산\n",
        "import numpy as np\n",
        "print(np.cross(a,b))    # cross() 함수 이용한 결과\n"
      ]
    },
    {
      "cell_type": "code",
      "execution_count": null,
      "metadata": {
        "id": "Y-4T_Asr8HXT",
        "outputId": "82602a09-f897-47a9-c497-1835d0995ea3"
      },
      "outputs": [
        {
          "name": "stdout",
          "output_type": "stream",
          "text": [
            "[94 54 29]\n"
          ]
        }
      ],
      "source": [
        "# 파이썬 문제풀이(1)\n",
        "import numpy as np\n",
        "a = np.array([5, -13, 8])\n",
        "b = np.array([-2, 11, -14])\n",
        "print(np.cross(a,b))"
      ]
    },
    {
      "cell_type": "code",
      "execution_count": null,
      "metadata": {
        "id": "LX-APHPv8HXT",
        "outputId": "e9f92d5d-6549-4dcb-d5f0-61963ae16361"
      },
      "outputs": [
        {
          "name": "stdout",
          "output_type": "stream",
          "text": [
            "[-64 142  99]\n"
          ]
        }
      ],
      "source": [
        "# 파이썬 문제풀이(2)\n",
        "import numpy as np\n",
        "a = np.array([-7, 8, -16])\n",
        "b = np.array([-8, -5, 2])\n",
        "print(np.cross(a,b))"
      ]
    },
    {
      "cell_type": "code",
      "execution_count": null,
      "metadata": {
        "id": "FdhwO_eS8HXT",
        "outputId": "ab6e547e-36cb-45e5-83c3-e785923d596f"
      },
      "outputs": [
        {
          "name": "stdout",
          "output_type": "stream",
          "text": [
            "[1 2]\n"
          ]
        }
      ],
      "source": [
        "# 10.3.3 직교벡터\n",
        "# 벡터의 크기와 거리\n",
        "# 벡터의 크기\n",
        "\n",
        "# 벡터  = (1, 2)일 때,  의 길이를 구해 보자.\n",
        "import numpy as np\n",
        "a = np.array([1,2])\n",
        "print(a)"
      ]
    },
    {
      "cell_type": "code",
      "execution_count": null,
      "metadata": {
        "id": "5g2hHsjw8HXT",
        "outputId": "76cf67ff-5937-46f1-d980-819ec09540c1"
      },
      "outputs": [
        {
          "data": {
            "text/plain": [
              "2.23606797749979"
            ]
          },
          "execution_count": 46,
          "metadata": {},
          "output_type": "execute_result"
        }
      ],
      "source": [
        "np.linalg.norm(a) # a의 길이"
      ]
    },
    {
      "cell_type": "code",
      "execution_count": null,
      "metadata": {
        "id": "iLQv_63G8HXU",
        "outputId": "a8c49944-c5fb-4d31-bf03-6feeab9c8a22"
      },
      "outputs": [
        {
          "data": {
            "text/plain": [
              "3.0"
            ]
          },
          "execution_count": 47,
          "metadata": {},
          "output_type": "execute_result"
        }
      ],
      "source": [
        "np.linalg.norm(a, ord=1) # L1 Norm 구하기"
      ]
    },
    {
      "cell_type": "code",
      "execution_count": null,
      "metadata": {
        "id": "nbSEfyoj8HXU",
        "outputId": "ed08fb4c-4ad6-408d-c279-beea9ef0547b"
      },
      "outputs": [
        {
          "data": {
            "text/plain": [
              "2.23606797749979"
            ]
          },
          "execution_count": 48,
          "metadata": {},
          "output_type": "execute_result"
        }
      ],
      "source": [
        "np.linalg.norm(a, ord=2) # L2 Norm 구하기"
      ]
    },
    {
      "cell_type": "code",
      "execution_count": null,
      "metadata": {
        "id": "wn8VyJlf8HXU",
        "outputId": "39cf388b-4f9b-463a-ee01-c43fb772c9eb"
      },
      "outputs": [
        {
          "data": {
            "text/plain": [
              "12.165525060596439"
            ]
          },
          "execution_count": 49,
          "metadata": {},
          "output_type": "execute_result"
        }
      ],
      "source": [
        "# 파이썬 문제풀이(1)\n",
        "\n",
        "import numpy as np\n",
        "a = np.array([-2,12])\n",
        "np.linalg.norm(a)"
      ]
    },
    {
      "cell_type": "code",
      "execution_count": null,
      "metadata": {
        "id": "R_9SPTLK8HXU",
        "outputId": "e4cec39c-6003-45b0-e017-78d7cece53c1"
      },
      "outputs": [
        {
          "data": {
            "text/plain": [
              "12.206555615733702"
            ]
          },
          "execution_count": 50,
          "metadata": {},
          "output_type": "execute_result"
        }
      ],
      "source": [
        "# 파이썬 문제풀이(2)\n",
        "\n",
        "import numpy as np\n",
        "a=np.array([5**0.5,12])\n",
        "np.linalg.norm(a)"
      ]
    },
    {
      "cell_type": "code",
      "execution_count": null,
      "metadata": {
        "id": "4z0rLXXK8HXU",
        "outputId": "cbee44da-14f1-4894-f909-6a39adc92c1e"
      },
      "outputs": [
        {
          "data": {
            "text/plain": [
              "17.26267650163207"
            ]
          },
          "execution_count": 51,
          "metadata": {},
          "output_type": "execute_result"
        }
      ],
      "source": [
        "# 파이썬 문제풀이(3)\n",
        "\n",
        "import numpy as np\n",
        "a=np.array([3,-15,8])\n",
        "np.linalg.norm(a)"
      ]
    },
    {
      "cell_type": "code",
      "execution_count": null,
      "metadata": {
        "id": "e_5Bc7Qc8HXU",
        "outputId": "508ae5e3-84b7-418d-e7e2-11543d0da86b"
      },
      "outputs": [
        {
          "data": {
            "text/plain": [
              "8.660254037844387"
            ]
          },
          "execution_count": 52,
          "metadata": {},
          "output_type": "execute_result"
        }
      ],
      "source": [
        "# 파이썬 문제풀이(4)\n",
        "\n",
        "import numpy as np\n",
        "a=np.array([-7,10**0.5,4])\n",
        "np.linalg.norm(a)"
      ]
    },
    {
      "cell_type": "code",
      "execution_count": null,
      "metadata": {
        "id": "SqWoc59w8HXV",
        "outputId": "0aab9ff1-71d3-45ed-e4ff-1e0539e0cef9"
      },
      "outputs": [
        {
          "name": "stdout",
          "output_type": "stream",
          "text": [
            "Euclidean distance:  5.196152422706632\n"
          ]
        }
      ],
      "source": [
        "# 벡터의 거리/유사도\n",
        "# Python을 활용한 벡터의 거리계산(유클리드 거리)\n",
        "\n",
        "# scipy.spatia 모듈로부터 distance 함수 호출\n",
        "from scipy.spatial import distance\n",
        "\n",
        "# 두 점 P1과 P2 명시\n",
        "p1 = (1, 2, 3)\n",
        "p2 = (4, 5, 6)\n",
        "\n",
        "# P1과 P2 사이의 유클리드 거리 계산\n",
        "d = distance.euclidean(p1, p2)\n",
        "print(\"Euclidean distance: \",d)"
      ]
    },
    {
      "cell_type": "code",
      "execution_count": null,
      "metadata": {
        "id": "jp4Ed8cT8HXV",
        "outputId": "c907b219-e148-49bc-bc2c-e72b69a7e151"
      },
      "outputs": [
        {
          "data": {
            "text/plain": [
              "9"
            ]
          },
          "execution_count": 54,
          "metadata": {},
          "output_type": "execute_result"
        }
      ],
      "source": [
        "# 맨해튼 거리(Manhattan distance)\n",
        "\n",
        "# math 함수 호출\n",
        "from math import*\n",
        "\n",
        "# 두 점 P1과 P2 정의\n",
        "p1 = (1, 2, 3)\n",
        "p2 = (4, 5, 6)\n",
        "\n",
        "# 맨해튼 거리를 계산하기 위한 사용자 정의 함수 생성\n",
        "def manhattan_distance(x,y):\n",
        "    return sum(abs(a-b) for a,b in zip(x,y))\n",
        "\n",
        "# P1과 P2 사이의 맨해튼 거리 계산\n",
        "manhattan_distance(p1,p2)"
      ]
    },
    {
      "cell_type": "code",
      "execution_count": null,
      "metadata": {
        "id": "XlisI1gj8HXV",
        "outputId": "837922e1-622c-487d-d0d3-18fca999a66c"
      },
      "outputs": [
        {
          "name": "stdout",
          "output_type": "stream",
          "text": [
            "0.5773502691896258\n",
            "0.8838834764831843\n",
            "0.8164965809277259\n"
          ]
        }
      ],
      "source": [
        "# 코사인 유사도(Cosine Similarity)\n",
        "\n",
        "from numpy import dot\n",
        "from numpy.linalg import norm\n",
        "import numpy as np\n",
        "\n",
        "def cos_sim(A, B):\n",
        "    return dot(A, B)/(norm(A)*norm(B))\n",
        "\n",
        "doc1=np.array([1,1,1,1,0])\n",
        "doc2=np.array([1,0,1,0,1])\n",
        "doc3=np.array([2,1,1,1,1])\n",
        "\n",
        "print(cos_sim(doc1, doc2)) #문서1과 문서2의 코사인 유사도\n",
        "print(cos_sim(doc1, doc3)) #문서1과 문서3의 코사인 유사도\n",
        "print(cos_sim(doc2, doc3)) #문서2과 문서3의 코사인 유사도"
      ]
    },
    {
      "cell_type": "code",
      "execution_count": null,
      "metadata": {
        "id": "vECinWcI8HXV",
        "outputId": "5d414489-0d31-49d0-9a99-571c4721720a"
      },
      "outputs": [
        {
          "name": "stdout",
          "output_type": "stream",
          "text": [
            "[[ 1.  0.  0.  0.]\n",
            " [-2.  1.  0.  0.]\n",
            " [-3.  0.  1.  0.]\n",
            " [-4. -0. -0.  1.]]\n"
          ]
        }
      ],
      "source": [
        "# 11장 행렬변환\n",
        "# 11.2 역함수와 역변환\n",
        "# 11.2.2 역행렬\n",
        "\n",
        "import numpy as np\n",
        "A = np.matrix([[1, 0, 0, 0], [2, 1, 0, 0], [3, 0, 1, 0], [4, 0, 0, 1]])\n",
        "print(np.linalg.inv(A))"
      ]
    },
    {
      "cell_type": "code",
      "execution_count": null,
      "metadata": {
        "id": "T7ZgaYXY8HXW",
        "outputId": "0ffb5953-74c9-4043-f3f2-60bf212c5fdd"
      },
      "outputs": [
        {
          "name": "stdout",
          "output_type": "stream",
          "text": [
            "[[-2.   1. ]\n",
            " [ 1.5 -0.5]]\n"
          ]
        }
      ],
      "source": [
        "# 파이썬 문제풀이(1)\n",
        "\n",
        "import numpy as np\n",
        "A = np.matrix([[1,2],[3,4]])\n",
        "print(np.linalg.inv(A))"
      ]
    },
    {
      "cell_type": "code",
      "execution_count": null,
      "metadata": {
        "id": "Lqtugt_y8HXW",
        "outputId": "abaa21bb-4a87-4218-c552-589249e11b08"
      },
      "outputs": [
        {
          "ename": "LinAlgError",
          "evalue": "Singular matrix",
          "output_type": "error",
          "traceback": [
            "\u001b[1;31m---------------------------------------------------------------------------\u001b[0m",
            "\u001b[1;31mLinAlgError\u001b[0m                               Traceback (most recent call last)",
            "\u001b[1;32m<ipython-input-58-484cc664a1ff>\u001b[0m in \u001b[0;36m<module>\u001b[1;34m\u001b[0m\n\u001b[0;32m      3\u001b[0m \u001b[1;32mimport\u001b[0m \u001b[0mnumpy\u001b[0m \u001b[1;32mas\u001b[0m \u001b[0mnp\u001b[0m\u001b[1;33m\u001b[0m\u001b[1;33m\u001b[0m\u001b[0m\n\u001b[0;32m      4\u001b[0m \u001b[0mA\u001b[0m \u001b[1;33m=\u001b[0m \u001b[0mnp\u001b[0m\u001b[1;33m.\u001b[0m\u001b[0mmatrix\u001b[0m\u001b[1;33m(\u001b[0m\u001b[1;33m[\u001b[0m\u001b[1;33m[\u001b[0m\u001b[1;36m2\u001b[0m\u001b[1;33m,\u001b[0m\u001b[1;36m3\u001b[0m\u001b[1;33m]\u001b[0m\u001b[1;33m,\u001b[0m\u001b[1;33m[\u001b[0m\u001b[1;36m4\u001b[0m\u001b[1;33m,\u001b[0m\u001b[1;36m6\u001b[0m\u001b[1;33m]\u001b[0m\u001b[1;33m]\u001b[0m\u001b[1;33m)\u001b[0m\u001b[1;33m\u001b[0m\u001b[1;33m\u001b[0m\u001b[0m\n\u001b[1;32m----> 5\u001b[1;33m \u001b[0mprint\u001b[0m\u001b[1;33m(\u001b[0m\u001b[0mnp\u001b[0m\u001b[1;33m.\u001b[0m\u001b[0mlinalg\u001b[0m\u001b[1;33m.\u001b[0m\u001b[0minv\u001b[0m\u001b[1;33m(\u001b[0m\u001b[0mA\u001b[0m\u001b[1;33m)\u001b[0m\u001b[1;33m)\u001b[0m \u001b[1;31m# 결과는 오류가 맞습니다\u001b[0m\u001b[1;33m\u001b[0m\u001b[1;33m\u001b[0m\u001b[0m\n\u001b[0m",
            "\u001b[1;32m<__array_function__ internals>\u001b[0m in \u001b[0;36minv\u001b[1;34m(*args, **kwargs)\u001b[0m\n",
            "\u001b[1;32m~\\anaconda3\\lib\\site-packages\\numpy\\linalg\\linalg.py\u001b[0m in \u001b[0;36minv\u001b[1;34m(a)\u001b[0m\n\u001b[0;32m    545\u001b[0m     \u001b[0msignature\u001b[0m \u001b[1;33m=\u001b[0m \u001b[1;34m'D->D'\u001b[0m \u001b[1;32mif\u001b[0m \u001b[0misComplexType\u001b[0m\u001b[1;33m(\u001b[0m\u001b[0mt\u001b[0m\u001b[1;33m)\u001b[0m \u001b[1;32melse\u001b[0m \u001b[1;34m'd->d'\u001b[0m\u001b[1;33m\u001b[0m\u001b[1;33m\u001b[0m\u001b[0m\n\u001b[0;32m    546\u001b[0m     \u001b[0mextobj\u001b[0m \u001b[1;33m=\u001b[0m \u001b[0mget_linalg_error_extobj\u001b[0m\u001b[1;33m(\u001b[0m\u001b[0m_raise_linalgerror_singular\u001b[0m\u001b[1;33m)\u001b[0m\u001b[1;33m\u001b[0m\u001b[1;33m\u001b[0m\u001b[0m\n\u001b[1;32m--> 547\u001b[1;33m     \u001b[0mainv\u001b[0m \u001b[1;33m=\u001b[0m \u001b[0m_umath_linalg\u001b[0m\u001b[1;33m.\u001b[0m\u001b[0minv\u001b[0m\u001b[1;33m(\u001b[0m\u001b[0ma\u001b[0m\u001b[1;33m,\u001b[0m \u001b[0msignature\u001b[0m\u001b[1;33m=\u001b[0m\u001b[0msignature\u001b[0m\u001b[1;33m,\u001b[0m \u001b[0mextobj\u001b[0m\u001b[1;33m=\u001b[0m\u001b[0mextobj\u001b[0m\u001b[1;33m)\u001b[0m\u001b[1;33m\u001b[0m\u001b[1;33m\u001b[0m\u001b[0m\n\u001b[0m\u001b[0;32m    548\u001b[0m     \u001b[1;32mreturn\u001b[0m \u001b[0mwrap\u001b[0m\u001b[1;33m(\u001b[0m\u001b[0mainv\u001b[0m\u001b[1;33m.\u001b[0m\u001b[0mastype\u001b[0m\u001b[1;33m(\u001b[0m\u001b[0mresult_t\u001b[0m\u001b[1;33m,\u001b[0m \u001b[0mcopy\u001b[0m\u001b[1;33m=\u001b[0m\u001b[1;32mFalse\u001b[0m\u001b[1;33m)\u001b[0m\u001b[1;33m)\u001b[0m\u001b[1;33m\u001b[0m\u001b[1;33m\u001b[0m\u001b[0m\n\u001b[0;32m    549\u001b[0m \u001b[1;33m\u001b[0m\u001b[0m\n",
            "\u001b[1;32m~\\anaconda3\\lib\\site-packages\\numpy\\linalg\\linalg.py\u001b[0m in \u001b[0;36m_raise_linalgerror_singular\u001b[1;34m(err, flag)\u001b[0m\n\u001b[0;32m     95\u001b[0m \u001b[1;33m\u001b[0m\u001b[0m\n\u001b[0;32m     96\u001b[0m \u001b[1;32mdef\u001b[0m \u001b[0m_raise_linalgerror_singular\u001b[0m\u001b[1;33m(\u001b[0m\u001b[0merr\u001b[0m\u001b[1;33m,\u001b[0m \u001b[0mflag\u001b[0m\u001b[1;33m)\u001b[0m\u001b[1;33m:\u001b[0m\u001b[1;33m\u001b[0m\u001b[1;33m\u001b[0m\u001b[0m\n\u001b[1;32m---> 97\u001b[1;33m     \u001b[1;32mraise\u001b[0m \u001b[0mLinAlgError\u001b[0m\u001b[1;33m(\u001b[0m\u001b[1;34m\"Singular matrix\"\u001b[0m\u001b[1;33m)\u001b[0m\u001b[1;33m\u001b[0m\u001b[1;33m\u001b[0m\u001b[0m\n\u001b[0m\u001b[0;32m     98\u001b[0m \u001b[1;33m\u001b[0m\u001b[0m\n\u001b[0;32m     99\u001b[0m \u001b[1;32mdef\u001b[0m \u001b[0m_raise_linalgerror_nonposdef\u001b[0m\u001b[1;33m(\u001b[0m\u001b[0merr\u001b[0m\u001b[1;33m,\u001b[0m \u001b[0mflag\u001b[0m\u001b[1;33m)\u001b[0m\u001b[1;33m:\u001b[0m\u001b[1;33m\u001b[0m\u001b[1;33m\u001b[0m\u001b[0m\n",
            "\u001b[1;31mLinAlgError\u001b[0m: Singular matrix"
          ]
        }
      ],
      "source": [
        "# 파이썬 문제풀이(2)\n",
        "\n",
        "import numpy as np\n",
        "A = np.matrix([[2,3],[4,6]])\n",
        "print(np.linalg.inv(A)) # 결과는 오류가 맞습니다"
      ]
    },
    {
      "cell_type": "code",
      "execution_count": null,
      "metadata": {
        "id": "lrh8Y-EP8HXW",
        "outputId": "21953b41-3f34-40fb-dfaa-bb6bb912a617"
      },
      "outputs": [
        {
          "name": "stdout",
          "output_type": "stream",
          "text": [
            "[[ 0  1  2  3  4]\n",
            " [ 5  6  7  8  9]\n",
            " [10 11 12 13 14]]\n"
          ]
        }
      ],
      "source": [
        "# 11.3 전치행렬\n",
        "# 11.3.1 전치행렬이란\n",
        "\n",
        "import numpy as np\n",
        "a = np.arange(15).reshape(3, 5)\n",
        "print(a)"
      ]
    },
    {
      "cell_type": "code",
      "execution_count": null,
      "metadata": {
        "id": "61G-Oa308HXW",
        "outputId": "e5244c86-49da-40e5-85bf-51028406f96e"
      },
      "outputs": [
        {
          "data": {
            "text/plain": [
              "array([[ 0,  5, 10],\n",
              "       [ 1,  6, 11],\n",
              "       [ 2,  7, 12],\n",
              "       [ 3,  8, 13],\n",
              "       [ 4,  9, 14]])"
            ]
          },
          "execution_count": 60,
          "metadata": {},
          "output_type": "execute_result"
        }
      ],
      "source": [
        "np.transpose(a)"
      ]
    },
    {
      "cell_type": "code",
      "execution_count": null,
      "metadata": {
        "id": "zHT1agV58HXW",
        "outputId": "4f24d333-c334-437d-abe1-452ae743a8d2"
      },
      "outputs": [
        {
          "name": "stdout",
          "output_type": "stream",
          "text": [
            "[5.44948974 0.55051026]\n",
            "[[ 0.91209559  0.21927526]\n",
            " [-0.40997761  0.97566304]]\n"
          ]
        }
      ],
      "source": [
        "# 12장 상호좌표계\n",
        "# 12.1 고유값(eigenvalue), 고유벡터(eigenvector), 공유공간\n",
        "# 12.1.1 고유값과 고유벡터란\n",
        "\n",
        "import numpy as np\n",
        "a = np.array([[5,-1],[-2,1]])\n",
        "w, v = np.linalg.eig(a)\n",
        "\n",
        "print(w)\n",
        "print(v)"
      ]
    },
    {
      "cell_type": "code",
      "execution_count": null,
      "metadata": {
        "id": "aj9pP7BX8HXX",
        "outputId": "c65f987d-7a2c-4b75-b7b3-3720a5b3e41d"
      },
      "outputs": [
        {
          "name": "stdout",
          "output_type": "stream",
          "text": [
            "[-2.  5.]\n",
            "[[-0.70710678 -0.6       ]\n",
            " [ 0.70710678 -0.8       ]]\n"
          ]
        }
      ],
      "source": [
        "# 파이썬 문제풀이\n",
        "import numpy as np\n",
        "a = np.array([[1,3],[4,2]])\n",
        "w, v = np.linalg.eig(a)\n",
        "print(w)\n",
        "print(v)"
      ]
    },
    {
      "cell_type": "code",
      "execution_count": null,
      "metadata": {
        "id": "Jc-dwR3j8HXX"
      },
      "outputs": [],
      "source": []
    }
  ],
  "metadata": {
    "kernelspec": {
      "display_name": "Python 3",
      "language": "python",
      "name": "python3"
    },
    "language_info": {
      "codemirror_mode": {
        "name": "ipython",
        "version": 3
      },
      "file_extension": ".py",
      "mimetype": "text/x-python",
      "name": "python",
      "nbconvert_exporter": "python",
      "pygments_lexer": "ipython3",
      "version": "3.7.6"
    },
    "colab": {
      "provenance": []
    }
  },
  "nbformat": 4,
  "nbformat_minor": 0
}